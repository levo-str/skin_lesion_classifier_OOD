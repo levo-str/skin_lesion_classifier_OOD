{
 "cells": [
  {
   "cell_type": "code",
   "source": [
    "!pip install timm"
   ],
   "metadata": {
    "ExecuteTime": {
     "end_time": "2024-01-19T01:23:02.661892292Z",
     "start_time": "2024-01-19T01:23:01.424105182Z"
    },
    "colab": {
     "base_uri": "https://localhost:8080/"
    },
    "id": "c3a568e9d1a34192",
    "executionInfo": {
     "status": "ok",
     "timestamp": 1705726351502,
     "user_tz": -60,
     "elapsed": 21456,
     "user": {
      "displayName": "Kévin-Lâm",
      "userId": "01701423263632433867"
     }
    },
    "outputId": "41cac3e7-a280-411f-f67d-27a951dc45b5"
   },
   "id": "c3a568e9d1a34192",
   "execution_count": null,
   "outputs": []
  },
  {
   "cell_type": "code",
   "source": [
    "from google.colab import drive\n",
    "drive.mount('/content/drive', force_remount= True)\n",
    "%cd /content/drive/MyDrive/OOD_2/\n",
    "!ls"
   ],
   "metadata": {
    "ExecuteTime": {
     "end_time": "2024-01-19T01:23:07.763105262Z",
     "start_time": "2024-01-19T01:23:07.519646607Z"
    },
    "colab": {
     "base_uri": "https://localhost:8080/"
    },
    "id": "a39884fa123facac",
    "executionInfo": {
     "status": "ok",
     "timestamp": 1705726366820,
     "user_tz": -60,
     "elapsed": 15322,
     "user": {
      "displayName": "Kévin-Lâm",
      "userId": "01701423263632433867"
     }
    },
    "outputId": "f711d0e9-ba73-4797-b5d8-40ebb767f6e1"
   },
   "id": "a39884fa123facac",
   "execution_count": null,
   "outputs": []
  },
  {
   "cell_type": "code",
   "source": [
    "import pandas as pd\n",
    "import torch\n",
    "from imblearn.over_sampling import RandomOverSampler\n",
    "from sklearn.model_selection import train_test_split\n",
    "from torch.utils.data import DataLoader\n",
    "import torchvision.transforms as transforms\n",
    "from CustomImageDataset import CustomImageDataset\n",
    "from models.SkinLesionLightClassifier import SkinLesionLightClassifier\n",
    "from models.SkinLesionRuzinClassifier import SkinLesionRuzinClassifier\n",
    "from train_model import train_model"
   ],
   "metadata": {
    "collapsed": true,
    "ExecuteTime": {
     "end_time": "2024-01-19T14:09:44.384123300Z",
     "start_time": "2024-01-19T14:09:42.163694417Z"
    },
    "id": "initial_id"
   },
   "id": "initial_id",
   "execution_count": null,
   "outputs": []
  },
  {
   "cell_type": "code",
   "source": [
    "# number of subprocesses to use for data loading\n",
    "num_workers = 0\n",
    "# how many samples per batch to load\n",
    "batch_size = 32\n",
    "# percentage of training set to use as validation\n",
    "valid_size = 0.3\n",
    "# use a gpu if one is available\n",
    "device = 'cuda' if torch.cuda.is_available() else 'cpu'"
   ],
   "metadata": {
    "ExecuteTime": {
     "end_time": "2024-01-19T14:09:51.992636543Z",
     "start_time": "2024-01-19T14:09:51.989922939Z"
    },
    "id": "db5ff27f41197dc7"
   },
   "id": "db5ff27f41197dc7",
   "execution_count": null,
   "outputs": []
  },
  {
   "cell_type": "code",
   "source": [
    "path_HAM10000 = ''"
   ],
   "metadata": {
    "ExecuteTime": {
     "end_time": "2024-01-19T02:45:43.215092329Z",
     "start_time": "2024-01-19T02:45:43.211720691Z"
    },
    "id": "c118aee6c44bd4f6"
   },
   "id": "c118aee6c44bd4f6",
   "execution_count": null,
   "outputs": []
  },
  {
   "cell_type": "code",
   "source": [
    "classes = {5: ('nv', ' melanocytic nevi'), 4: ('mel', 'melanoma'), 2 :('bkl', 'benign keratosis-like lesions'), 1:('bcc' , ' basal cell carcinoma'), 6: ('vasc', ' pyogenic granulomas and hemorrhage'), 0: ('akiec', 'Actinic keratoses and intraepithelial carcinomae'),  3: ('df', 'dermatofibroma')}\n",
    "label_dict = {'akiec' : 0, 'bcc': 1, 'bkl': 2, 'df': 3, 'mel': 4, 'nv':5, 'vasc':6}"
   ],
   "metadata": {
    "ExecuteTime": {
     "end_time": "2024-01-19T02:45:43.526889156Z",
     "start_time": "2024-01-19T02:45:43.523041560Z"
    },
    "id": "dedc48538c875ef0"
   },
   "id": "dedc48538c875ef0",
   "execution_count": null,
   "outputs": []
  },
  {
   "cell_type": "code",
   "source": [
    "metadata_df = pd.read_csv(path_HAM10000 + 'HAM10000_metadata.csv')\n",
    "\n",
    "train_unprocessed, validation = train_test_split(metadata_df, test_size=0.3, stratify=metadata_df['dx'],\n",
    "                                                 random_state=42)\n",
    "oversample = RandomOverSampler()\n",
    "y = train_unprocessed['dx'];\n",
    "x = train_unprocessed.drop(columns=['dx']);\n",
    "train, y = oversample.fit_resample(x, y)\n",
    "train['dx'] = y\n",
    "training_data = CustomImageDataset(train, img_dir='ham10000_images_part_1',\n",
    "                                   transform=transforms.Compose([\n",
    "                                       transforms.ConvertImageDtype(torch.float),\n",
    "                                       transforms.RandomHorizontalFlip(),\n",
    "                                       transforms.RandomVerticalFlip(),\n",
    "                                       transforms.RandomAutocontrast()]))\n",
    "train_loader = DataLoader(training_data, batch_size=batch_size, shuffle=True, drop_last= True)\n",
    "validation_data = CustomImageDataset(validation, img_dir='ham10000_images_part_1')\n",
    "valid_loader = DataLoader(validation_data, batch_size=batch_size, shuffle=True, drop_last=True)"
   ],
   "metadata": {
    "ExecuteTime": {
     "end_time": "2024-01-19T02:45:44.144974274Z",
     "start_time": "2024-01-19T02:45:44.102195090Z"
    },
    "id": "872cc7d6e944ff65"
   },
   "id": "872cc7d6e944ff65",
   "execution_count": null,
   "outputs": []
  },
  {
   "cell_type": "code",
   "source": [
    "# number of epochs to train the model\n",
    "n_epochs = 25\n",
    "# initialize tracker for minimum validation loss\n",
    "early_stopping_window = 4\n",
    "model = SkinLesionRuzinClassifier(7)\n",
    "model.to(device)\n",
    "#model.load_state_dict(torch.load('checkpoints_mobilenet/final_model.pth'))\n"
   ],
   "metadata": {
    "ExecuteTime": {
     "end_time": "2024-01-19T02:45:53.068178970Z",
     "start_time": "2024-01-19T02:45:45.929193771Z"
    },
    "colab": {
     "base_uri": "https://localhost:8080/",
     "height": 1000,
     "referenced_widgets": [
      "985204d70201465ea19ec42b55859f54",
      "d76afd67c03d4d4688c97193f8d76ba1",
      "f46ca5639bcc4e039882ab70a5f3a346",
      "7c0ce808f68a4ad5b050c1231fd7f9ad",
      "b58ba6789e9a45dc980702a3ba0f5256",
      "5d5b0c623ae04d3a82e59afef29dac65",
      "6f753509f31b4baa97cf2af5fb854dd7",
      "253ec50165314b8fb12fba4ca51e0dd8",
      "8181116f6b62404889f989abb9bffe45",
      "6f5808bca76e4a4497925e3d62588180",
      "0e57100714774a2c8b22decc0127974f"
     ]
    },
    "id": "cc05511c72a4a2ac",
    "executionInfo": {
     "status": "ok",
     "timestamp": 1705726740295,
     "user_tz": -60,
     "elapsed": 1875,
     "user": {
      "displayName": "Kévin-Lâm",
      "userId": "01701423263632433867"
     }
    },
    "outputId": "18b24f23-7e4b-4eaa-8853-ba20c1c6cbbe"
   },
   "id": "cc05511c72a4a2ac",
   "execution_count": null,
   "outputs": []
  },
  {
   "cell_type": "code",
   "source": [
    "model.to(device)\n",
    "train_model(model, train_loader, valid_loader, n_epochs, early_stopping_window,\n",
    "            device, last_module_name='classifier',\n",
    "            save_checkpoints_path='checkpoints_mobilenet/',\n",
    "            save_model_path='checkpoints_mobilenet/',\n",
    "            save_figures_path= 'checkpoints_mobilenet/',\n",
    "            save_checkpoints = True,\n",
    "            freeze = True)"
   ],
   "metadata": {
    "ExecuteTime": {
     "end_time": "2024-01-19T02:46:00.391344447Z",
     "start_time": "2024-01-19T02:46:00.322488589Z"
    },
    "colab": {
     "base_uri": "https://localhost:8080/",
     "height": 1000
    },
    "id": "99c5f16b6155b1ef",
    "outputId": "950e3744-7a9f-4f98-8210-9e3fb29ef49c",
    "executionInfo": {
     "status": "error",
     "timestamp": 1705741749996,
     "user_tz": -60,
     "elapsed": 2763353,
     "user": {
      "displayName": "Kévin-Lâm",
      "userId": "01701423263632433867"
     }
    }
   },
   "id": "99c5f16b6155b1ef",
   "execution_count": null,
   "outputs": []
  }
 ],
 "metadata": {
  "kernelspec": {
   "display_name": "Python 3",
   "name": "python3"
  },
  "language_info": {
   "codemirror_mode": {
    "name": "ipython",
    "version": 2
   },
   "file_extension": ".py",
   "mimetype": "text/x-python",
   "name": "python",
   "nbconvert_exporter": "python",
   "pygments_lexer": "ipython2",
   "version": "2.7.6"
  },
  "colab": {
   "provenance": [],
   "gpuType": "T4"
  },
  "accelerator": "GPU",
  "widgets": {
   "application/vnd.jupyter.widget-state+json": {
    "985204d70201465ea19ec42b55859f54": {
     "model_module": "@jupyter-widgets/controls",
     "model_name": "HBoxModel",
     "model_module_version": "1.5.0",
     "state": {
      "_dom_classes": [],
      "_model_module": "@jupyter-widgets/controls",
      "_model_module_version": "1.5.0",
      "_model_name": "HBoxModel",
      "_view_count": null,
      "_view_module": "@jupyter-widgets/controls",
      "_view_module_version": "1.5.0",
      "_view_name": "HBoxView",
      "box_style": "",
      "children": [
       "IPY_MODEL_d76afd67c03d4d4688c97193f8d76ba1",
       "IPY_MODEL_f46ca5639bcc4e039882ab70a5f3a346",
       "IPY_MODEL_7c0ce808f68a4ad5b050c1231fd7f9ad"
      ],
      "layout": "IPY_MODEL_b58ba6789e9a45dc980702a3ba0f5256"
     }
    },
    "d76afd67c03d4d4688c97193f8d76ba1": {
     "model_module": "@jupyter-widgets/controls",
     "model_name": "HTMLModel",
     "model_module_version": "1.5.0",
     "state": {
      "_dom_classes": [],
      "_model_module": "@jupyter-widgets/controls",
      "_model_module_version": "1.5.0",
      "_model_name": "HTMLModel",
      "_view_count": null,
      "_view_module": "@jupyter-widgets/controls",
      "_view_module_version": "1.5.0",
      "_view_name": "HTMLView",
      "description": "",
      "description_tooltip": null,
      "layout": "IPY_MODEL_5d5b0c623ae04d3a82e59afef29dac65",
      "placeholder": "​",
      "style": "IPY_MODEL_6f753509f31b4baa97cf2af5fb854dd7",
      "value": "model.safetensors: 100%"
     }
    },
    "f46ca5639bcc4e039882ab70a5f3a346": {
     "model_module": "@jupyter-widgets/controls",
     "model_name": "FloatProgressModel",
     "model_module_version": "1.5.0",
     "state": {
      "_dom_classes": [],
      "_model_module": "@jupyter-widgets/controls",
      "_model_module_version": "1.5.0",
      "_model_name": "FloatProgressModel",
      "_view_count": null,
      "_view_module": "@jupyter-widgets/controls",
      "_view_module_version": "1.5.0",
      "_view_name": "ProgressView",
      "bar_style": "success",
      "description": "",
      "description_tooltip": null,
      "layout": "IPY_MODEL_253ec50165314b8fb12fba4ca51e0dd8",
      "max": 6420754,
      "min": 0,
      "orientation": "horizontal",
      "style": "IPY_MODEL_8181116f6b62404889f989abb9bffe45",
      "value": 6420754
     }
    },
    "7c0ce808f68a4ad5b050c1231fd7f9ad": {
     "model_module": "@jupyter-widgets/controls",
     "model_name": "HTMLModel",
     "model_module_version": "1.5.0",
     "state": {
      "_dom_classes": [],
      "_model_module": "@jupyter-widgets/controls",
      "_model_module_version": "1.5.0",
      "_model_name": "HTMLModel",
      "_view_count": null,
      "_view_module": "@jupyter-widgets/controls",
      "_view_module_version": "1.5.0",
      "_view_name": "HTMLView",
      "description": "",
      "description_tooltip": null,
      "layout": "IPY_MODEL_6f5808bca76e4a4497925e3d62588180",
      "placeholder": "​",
      "style": "IPY_MODEL_0e57100714774a2c8b22decc0127974f",
      "value": " 6.42M/6.42M [00:00&lt;00:00, 53.2MB/s]"
     }
    },
    "b58ba6789e9a45dc980702a3ba0f5256": {
     "model_module": "@jupyter-widgets/base",
     "model_name": "LayoutModel",
     "model_module_version": "1.2.0",
     "state": {
      "_model_module": "@jupyter-widgets/base",
      "_model_module_version": "1.2.0",
      "_model_name": "LayoutModel",
      "_view_count": null,
      "_view_module": "@jupyter-widgets/base",
      "_view_module_version": "1.2.0",
      "_view_name": "LayoutView",
      "align_content": null,
      "align_items": null,
      "align_self": null,
      "border": null,
      "bottom": null,
      "display": null,
      "flex": null,
      "flex_flow": null,
      "grid_area": null,
      "grid_auto_columns": null,
      "grid_auto_flow": null,
      "grid_auto_rows": null,
      "grid_column": null,
      "grid_gap": null,
      "grid_row": null,
      "grid_template_areas": null,
      "grid_template_columns": null,
      "grid_template_rows": null,
      "height": null,
      "justify_content": null,
      "justify_items": null,
      "left": null,
      "margin": null,
      "max_height": null,
      "max_width": null,
      "min_height": null,
      "min_width": null,
      "object_fit": null,
      "object_position": null,
      "order": null,
      "overflow": null,
      "overflow_x": null,
      "overflow_y": null,
      "padding": null,
      "right": null,
      "top": null,
      "visibility": null,
      "width": null
     }
    },
    "5d5b0c623ae04d3a82e59afef29dac65": {
     "model_module": "@jupyter-widgets/base",
     "model_name": "LayoutModel",
     "model_module_version": "1.2.0",
     "state": {
      "_model_module": "@jupyter-widgets/base",
      "_model_module_version": "1.2.0",
      "_model_name": "LayoutModel",
      "_view_count": null,
      "_view_module": "@jupyter-widgets/base",
      "_view_module_version": "1.2.0",
      "_view_name": "LayoutView",
      "align_content": null,
      "align_items": null,
      "align_self": null,
      "border": null,
      "bottom": null,
      "display": null,
      "flex": null,
      "flex_flow": null,
      "grid_area": null,
      "grid_auto_columns": null,
      "grid_auto_flow": null,
      "grid_auto_rows": null,
      "grid_column": null,
      "grid_gap": null,
      "grid_row": null,
      "grid_template_areas": null,
      "grid_template_columns": null,
      "grid_template_rows": null,
      "height": null,
      "justify_content": null,
      "justify_items": null,
      "left": null,
      "margin": null,
      "max_height": null,
      "max_width": null,
      "min_height": null,
      "min_width": null,
      "object_fit": null,
      "object_position": null,
      "order": null,
      "overflow": null,
      "overflow_x": null,
      "overflow_y": null,
      "padding": null,
      "right": null,
      "top": null,
      "visibility": null,
      "width": null
     }
    },
    "6f753509f31b4baa97cf2af5fb854dd7": {
     "model_module": "@jupyter-widgets/controls",
     "model_name": "DescriptionStyleModel",
     "model_module_version": "1.5.0",
     "state": {
      "_model_module": "@jupyter-widgets/controls",
      "_model_module_version": "1.5.0",
      "_model_name": "DescriptionStyleModel",
      "_view_count": null,
      "_view_module": "@jupyter-widgets/base",
      "_view_module_version": "1.2.0",
      "_view_name": "StyleView",
      "description_width": ""
     }
    },
    "253ec50165314b8fb12fba4ca51e0dd8": {
     "model_module": "@jupyter-widgets/base",
     "model_name": "LayoutModel",
     "model_module_version": "1.2.0",
     "state": {
      "_model_module": "@jupyter-widgets/base",
      "_model_module_version": "1.2.0",
      "_model_name": "LayoutModel",
      "_view_count": null,
      "_view_module": "@jupyter-widgets/base",
      "_view_module_version": "1.2.0",
      "_view_name": "LayoutView",
      "align_content": null,
      "align_items": null,
      "align_self": null,
      "border": null,
      "bottom": null,
      "display": null,
      "flex": null,
      "flex_flow": null,
      "grid_area": null,
      "grid_auto_columns": null,
      "grid_auto_flow": null,
      "grid_auto_rows": null,
      "grid_column": null,
      "grid_gap": null,
      "grid_row": null,
      "grid_template_areas": null,
      "grid_template_columns": null,
      "grid_template_rows": null,
      "height": null,
      "justify_content": null,
      "justify_items": null,
      "left": null,
      "margin": null,
      "max_height": null,
      "max_width": null,
      "min_height": null,
      "min_width": null,
      "object_fit": null,
      "object_position": null,
      "order": null,
      "overflow": null,
      "overflow_x": null,
      "overflow_y": null,
      "padding": null,
      "right": null,
      "top": null,
      "visibility": null,
      "width": null
     }
    },
    "8181116f6b62404889f989abb9bffe45": {
     "model_module": "@jupyter-widgets/controls",
     "model_name": "ProgressStyleModel",
     "model_module_version": "1.5.0",
     "state": {
      "_model_module": "@jupyter-widgets/controls",
      "_model_module_version": "1.5.0",
      "_model_name": "ProgressStyleModel",
      "_view_count": null,
      "_view_module": "@jupyter-widgets/base",
      "_view_module_version": "1.2.0",
      "_view_name": "StyleView",
      "bar_color": null,
      "description_width": ""
     }
    },
    "6f5808bca76e4a4497925e3d62588180": {
     "model_module": "@jupyter-widgets/base",
     "model_name": "LayoutModel",
     "model_module_version": "1.2.0",
     "state": {
      "_model_module": "@jupyter-widgets/base",
      "_model_module_version": "1.2.0",
      "_model_name": "LayoutModel",
      "_view_count": null,
      "_view_module": "@jupyter-widgets/base",
      "_view_module_version": "1.2.0",
      "_view_name": "LayoutView",
      "align_content": null,
      "align_items": null,
      "align_self": null,
      "border": null,
      "bottom": null,
      "display": null,
      "flex": null,
      "flex_flow": null,
      "grid_area": null,
      "grid_auto_columns": null,
      "grid_auto_flow": null,
      "grid_auto_rows": null,
      "grid_column": null,
      "grid_gap": null,
      "grid_row": null,
      "grid_template_areas": null,
      "grid_template_columns": null,
      "grid_template_rows": null,
      "height": null,
      "justify_content": null,
      "justify_items": null,
      "left": null,
      "margin": null,
      "max_height": null,
      "max_width": null,
      "min_height": null,
      "min_width": null,
      "object_fit": null,
      "object_position": null,
      "order": null,
      "overflow": null,
      "overflow_x": null,
      "overflow_y": null,
      "padding": null,
      "right": null,
      "top": null,
      "visibility": null,
      "width": null
     }
    },
    "0e57100714774a2c8b22decc0127974f": {
     "model_module": "@jupyter-widgets/controls",
     "model_name": "DescriptionStyleModel",
     "model_module_version": "1.5.0",
     "state": {
      "_model_module": "@jupyter-widgets/controls",
      "_model_module_version": "1.5.0",
      "_model_name": "DescriptionStyleModel",
      "_view_count": null,
      "_view_module": "@jupyter-widgets/base",
      "_view_module_version": "1.2.0",
      "_view_name": "StyleView",
      "description_width": ""
     }
    }
   }
  }
 },
 "nbformat": 4,
 "nbformat_minor": 5
}
